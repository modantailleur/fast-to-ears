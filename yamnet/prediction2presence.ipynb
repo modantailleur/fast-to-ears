{
 "cells": [
  {
   "cell_type": "code",
   "execution_count": 2,
   "metadata": {},
   "outputs": [
    {
     "name": "stdout",
     "output_type": "stream",
     "text": [
      "matching ids for traffic\n",
      "                     display_name\n",
      "300          Motor vehicle (road)\n",
      "308                Car passing by\n",
      "310                         Truck\n",
      "315                           Bus\n",
      "320                    Motorcycle\n",
      "321  Traffic noise, roadway noise\n",
      "matching ids for voice\n",
      "                 display_name\n",
      "0                      Speech\n",
      "1  Child speech, kid speaking\n",
      "2                Conversation\n",
      "3        Narration, monologue\n",
      "matching ids for bird\n",
      "                                display_name\n",
      "106                                     Bird\n",
      "107  Bird vocalization, bird call, bird song\n",
      "108                             Chirp, tweet\n",
      "109                                   Squawk\n",
      "110                             Pigeon, dove\n",
      "111                                      Coo\n",
      "112                                     Crow\n",
      "113                                      Caw\n",
      "114                                      Owl\n",
      "115                                     Hoot\n"
     ]
    }
   ],
   "source": [
    "import pandas as pd\n",
    "import numpy as np\n",
    "import os\n",
    "import sys\n",
    "sys.path.insert(0,'..')\n",
    "import inferenceMetrics as im\n",
    "\n",
    "inputPath = os.path.expanduser('~/drive/experiments/data/local/censeDomainSpecialization/')\n",
    "\n",
    "top_classes = 3\n",
    "\n",
    "# long\n",
    "traffic = np.array([300, 307, 308, 309, 310, 315, 320, 321])\n",
    "voice = np.arange(22) # 22\n",
    "bird = 106+np.arange(11)\n",
    "# short\n",
    "traffic = np.array([300, 308, 310, 315, 320, 321])\n",
    "voice = np.arange(4) # 22\n",
    "bird = 106+np.arange(10)\n",
    "\n",
    "reference = np.load(inputPath+'evalLorient_tvb_reference.npy')\n",
    "\n",
    "showClasses = False\n",
    "\n",
    "p = pd.read_csv('yamnet_class_map.csv')\n",
    "print('matching ids for traffic')\n",
    "print(p.iloc[traffic][['display_name']])\n",
    "print('matching ids for voice')\n",
    "print(p.iloc[voice][['display_name']])\n",
    "print('matching ids for bird')\n",
    "print(p.iloc[bird][['display_name']])"
   ]
  },
  {
   "cell_type": "code",
   "execution_count": 3,
   "metadata": {},
   "outputs": [
    {
     "name": "stdout",
     "output_type": "stream",
     "text": [
      "(30, 339, 521)\n",
      "(30, 339, 3)\n",
      "(30, 339, 3)\n",
      "Accuracy is 74.60%, accuracy with confidence weighted labels is 74.02%\n",
      "TP: 0.36, TN: 0.94, FP: 0.06, FN:0.64\n",
      "Acc_s:\n",
      "[0.66784661 0.83431662 0.73569322]\n",
      "TP_s:\n",
      "[0.19941421 0.63595597 0.34965229]\n",
      "TN_s:\n",
      "[0.983863   0.89736944 0.94676806]\n",
      "FP_s:\n",
      "[0.016137   0.10263056 0.05323194]\n",
      "FN_s:\n",
      "[0.80058579 0.36404403 0.65034771]\n",
      "Active source proportion\n",
      "[0.40285152 0.24119961 0.35349066]\n"
     ]
    }
   ],
   "source": [
    "scores = np.load(inputPath+'evalLorient_scores.npy')\n",
    "print(scores.shape)\n",
    "presence = np.zeros((30, scores.shape[1], 3))\n",
    "for k in range(30):\n",
    "  presence[k, :, 0] = np.max(np.isin(np.argsort(scores[k, :, :])[:, -top_classes:], traffic), axis = 1).astype(int)\n",
    "  presence[k, :, 1] = np.max(np.isin(np.argsort(scores[k, :, :])[:, -top_classes:], voice), axis = 1).astype(int)\n",
    "  presence[k, :, 2] = np.max(np.isin(np.argsort(scores[k, :, :])[:, -top_classes:], bird), axis = 1).astype(int)\n",
    "\n",
    "print(presence.shape)\n",
    "np.save(inputPath+'evalLorient_tvb_prediction.npy', presence)\n",
    "\n",
    "im.multiple_annotation_accuracy(presence, reference[:, :-5, :])"
   ]
  },
  {
   "cell_type": "code",
   "execution_count": 4,
   "metadata": {},
   "outputs": [
    {
     "data": {
      "image/png": "[encoded data removed]",
      "text/plain": [
       "<Figure size 576x504 with 2 Axes>"
      ]
     },
     "metadata": {},
     "output_type": "display_data"
    }
   ],
   "source": [
    "r = np.mean(np.round(np.mean(reference, axis=3)), axis=0)\n",
    "p = np.mean(presence, axis=0)\n",
    "\n",
    "#idx = np.random.randint(0, 30)\n",
    "#r = np.round(np.mean(reference, axis=3))[idx]\n",
    "#p = presence[idx]\n",
    "            \n",
    "fig, axs = plt.subplots(nrows=2)\n",
    "axs[0].imshow(r[:339, :].T, cmap='hot', interpolation='nearest', aspect='auto')\n",
    "axs[0].set_yticklabels(['t', 'v', 'b'])\n",
    "axs[0].set_yticks(range(3))\n",
    "axs[0].set_title('reference')\n",
    "axs[1].imshow(p.T, cmap='hot', interpolation='nearest', aspect='auto')\n",
    "axs[1].set_yticklabels(['t', 'v', 'b'])\n",
    "axs[1].set_yticks(range(3))\n",
    "axs[1].set_title('yamnet predictions')\n",
    "plt.show()"
   ]
  },
  {
   "cell_type": "code",
   "execution_count": null,
   "metadata": {},
   "outputs": [],
   "source": []
  }
 ],
 "metadata": {
  "kernelspec": {
   "display_name": "Python 3",
   "language": "python",
   "name": "python3"
  },
  "language_info": {
   "codemirror_mode": {
    "name": "ipython",
    "version": 3
   },
   "file_extension": ".py",
   "mimetype": "text/x-python",
   "name": "python",
   "nbconvert_exporter": "python",
   "pygments_lexer": "ipython3",
   "version": "3.7.5"
  }
 },
 "nbformat": 4,
 "nbformat_minor": 4
}
